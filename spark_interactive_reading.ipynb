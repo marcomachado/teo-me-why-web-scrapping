{
 "cells": [
  {
   "cell_type": "code",
   "execution_count": 1,
   "metadata": {},
   "outputs": [
    {
     "name": "stdout",
     "output_type": "stream",
     "text": [
      "Collecting pyspark\n",
      "  Downloading pyspark-3.5.1.tar.gz (317.0 MB)\n",
      "\u001b[2K     \u001b[90m━━━━━━━━━━━━━━━━━━━━━━━━━━━━━━━━━━━━━━━\u001b[0m \u001b[32m317.0/317.0 MB\u001b[0m \u001b[31m5.2 MB/s\u001b[0m eta \u001b[36m0:00:00\u001b[0m00:01\u001b[0m00:01\u001b[0m\n",
      "\u001b[?25h  Installing build dependencies ... \u001b[?25ldone\n",
      "\u001b[?25h  Getting requirements to build wheel ... \u001b[?25ldone\n",
      "\u001b[?25h  Installing backend dependencies ... \u001b[?25ldone\n",
      "\u001b[?25h  Preparing metadata (pyproject.toml) ... \u001b[?25ldone\n",
      "\u001b[?25hCollecting py4j==0.10.9.7 (from pyspark)\n",
      "  Downloading py4j-0.10.9.7-py2.py3-none-any.whl.metadata (1.5 kB)\n",
      "Downloading py4j-0.10.9.7-py2.py3-none-any.whl (200 kB)\n",
      "\u001b[2K   \u001b[90m━━━━━━━━━━━━━━━━━━━━━━━━━━━━━━━━━━━━━━━━\u001b[0m \u001b[32m200.5/200.5 kB\u001b[0m \u001b[31m6.5 MB/s\u001b[0m eta \u001b[36m0:00:00\u001b[0m\n",
      "\u001b[?25hBuilding wheels for collected packages: pyspark\n",
      "  Building wheel for pyspark (pyproject.toml) ... \u001b[?25ldone\n",
      "\u001b[?25h  Created wheel for pyspark: filename=pyspark-3.5.1-py2.py3-none-any.whl size=317488491 sha256=d34a03e3757da35df356a21cd6ab99eabedd99db4a1fb642af172e6b22063423\n",
      "  Stored in directory: /home/codespace/.cache/pip/wheels/80/1d/60/2c256ed38dddce2fdd93be545214a63e02fbd8d74fb0b7f3a6\n",
      "Successfully built pyspark\n",
      "Installing collected packages: py4j, pyspark\n",
      "Successfully installed py4j-0.10.9.7 pyspark-3.5.1\n"
     ]
    }
   ],
   "source": [
    "%pip install pyspark"
   ]
  },
  {
   "cell_type": "code",
   "execution_count": 2,
   "metadata": {},
   "outputs": [
    {
     "name": "stderr",
     "output_type": "stream",
     "text": [
      "24/03/27 13:33:54 WARN Utils: Your hostname, codespaces-7fad07 resolves to a loopback address: 127.0.0.1; using 172.16.5.4 instead (on interface eth0)\n",
      "24/03/27 13:33:54 WARN Utils: Set SPARK_LOCAL_IP if you need to bind to another address\n",
      "Setting default log level to \"WARN\".\n",
      "To adjust logging level use sc.setLogLevel(newLevel). For SparkR, use setLogLevel(newLevel).\n",
      "24/03/27 13:33:54 WARN NativeCodeLoader: Unable to load native-hadoop library for your platform... using builtin-java classes where applicable\n",
      "24/03/27 13:33:55 WARN Utils: Service 'SparkUI' could not bind on port 4040. Attempting port 4041.\n"
     ]
    }
   ],
   "source": [
    "from pyspark.sql import SparkSession\n",
    "\n",
    "spark = SparkSession.builder.appName(\"Python Spark SQL basic example\").config(\"spark.some.config.option\", \"some-value\").getOrCreate()"
   ]
  },
  {
   "cell_type": "code",
   "execution_count": 3,
   "metadata": {},
   "outputs": [
    {
     "name": "stderr",
     "output_type": "stream",
     "text": [
      "24/03/27 13:34:02 WARN SparkStringUtils: Truncated the string representation of a plan since it was too large. This behavior can be adjusted by setting 'spark.sql.debug.maxToStringFields'.\n",
      "                                                                                \r"
     ]
    },
    {
     "name": "stdout",
     "output_type": "stream",
     "text": [
      "+--------------------+--------------------+--------------------+--------------------+--------------------+--------------------+--------+-------+-------------------+-------------------+------------------+-----------------------+--------------------+------+--------------------+---------+--------------------+--------------------+--------------------+-----------------+-----------------+--------------------+-----------------+--------------+--------------------+--------------------+--------------------+--------------------+--------------------+--------------------+--------------------+\n",
      "|          audio_high|           audio_low|        audio_medium|           audio_zip|            category|         description|duration|episode| friendly_post_date| friendly_post_time|friendly_post_type|friendly_post_type_slug|              guests|    id|               image|image_alt|          insertions|        jump-to-time|         modified_at|  post_type_class|          product|       product_email|     product_name|product_status|            pub_date|        published_at|                slug|             subject|          thumbnails|               title|                 url|\n",
      "+--------------------+--------------------+--------------------+--------------------+--------------------+--------------------+--------+-------+-------------------+-------------------+------------------+-----------------------+--------------------+------+--------------------+---------+--------------------+--------------------+--------------------+-----------------+-----------------+--------------------+-----------------+--------------+--------------------+--------------------+--------------------+--------------------+--------------------+--------------------+--------------------+\n",
      "|https://nerdcast....|https://nerdcast....|https://nerdcast....|https://nerdcast....|{\"term_id\":121214...|<p>Aumento de pre...|    2300|     42|  9 de maio de 2022|         38 minutos|          NerdCast|               nerdcast|Gabriel Avila,Ped...|519089|https://uploads.j...|     NULL|                  []|            {0, 0, }|2022-05-06T18:50:...|     la-do-bunker|     la-do-bunker|                    |     Lá do Bunker|          NULL|2022-05-09T06:00:...|2022-05-09T06:00:...|     em-busca-do-pao|            Notícias|{https://uploads....|     Em busca do pão|https://admin.jov...|\n",
      "|https://nerdcast....|https://nerdcast....|https://nerdcast....|https://nerdcast....|{\"term_id\":121214...|<p>No momento em ...|    5584|     53|  7 de maio de 2022|1 hora e 33 minutos|          NerdCast|               nerdcast|Alan Dubox,Almôndega|519095|https://uploads.j...|     NULL|                  []|            {0, 0, }|2022-05-07T11:00:...|caneca-de-mamicas|caneca-de-mamicas|canecademamicas@j...|Caneca de Mamicas|          true|2022-05-07T11:00:...|2022-05-07T11:00:...|minha-mae-e-uma-peca| Cotidiano,Nostalgia|{https://uploads....|Minha Mãe é Uma Peça|https://admin.jov...|\n",
      "|https://nerdcast....|https://nerdcast....|https://nerdcast....|https://nerdcast....|{\"term_id\":121213...|<p> Sim, nerds! D...|    6671|    828|  6 de maio de 2022|1 hora e 51 minutos|          NerdCast|               nerdcast|Carolina Andrade,...|518467|https://uploads.j...|     NULL|[{, 580, 25324905...|{1240, 517, 00:08...|2023-05-09T16:12:...|         nerdcast|         nerdcast|nerdcast@jovemner...|         NerdCast|          true|2022-05-06T13:52:...|2022-05-06T13:52:...|babycast-3-nao-ag...|           Cotidiano|{https://uploads....|BabyCast 3: Não a...|https://admin.jov...|\n",
      "|https://nerdcast....|https://nerdcast....|https://nerdcast....|https://nerdcast....|{\"term_id\":121213...|<p>Vamos falar do...|    5353|     75|  6 de maio de 2022|1 hora e 29 minutos|          NerdCast|               nerdcast|Mario Souto,Maurí...|518991|https://uploads.j...|     NULL|                  []|            {0, 0, }|2022-06-03T10:47:...|         nerdtech|         nerdtech|nerdcast@jovemner...|         NerdTech|          NULL|2022-05-06T13:51:...|2022-05-06T13:51:...|    ceos-excentricos|Comportamento,Emp...|{https://uploads....|   CEO´s Excêntricos|https://admin.jov...|\n",
      "|https://nerdcast....|https://nerdcast....|https://nerdcast....|https://nerdcast....|{\"term_id\":121214...|<p>Twitter compra...|    2969|     41|  2 de maio de 2022|         49 minutos|          NerdCast|               nerdcast|Gabriel Avila,Ped...|518159|https://uploads.j...|     NULL|                  []|            {0, 0, }|2022-05-02T09:19:...|     la-do-bunker|     la-do-bunker|                    |     Lá do Bunker|          NULL|2022-05-02T06:00:...|2022-05-02T06:00:...| nao-comento-rumores|            Notícias|{https://uploads....| Não comento rumores|https://admin.jov...|\n",
      "|https://nerdcast....|https://nerdcast....|https://nerdcast....|https://nerdcast....|{\"term_id\":121214...|<p>A boa e velha ...|    5043|     52|30 de abril de 2022|1 hora e 24 minutos|          NerdCast|               nerdcast|Carolina Andrade,...|517881|https://uploads.j...|     NULL|[{, 170, 25314259...|            {0, 0, }|2022-04-30T12:35:...|caneca-de-mamicas|caneca-de-mamicas|canecademamicas@j...|Caneca de Mamicas|          true|2022-04-30T12:24:...|2022-04-30T12:24:...|sem-voce-meu-amor...|Comportamento,Cot...|{https://uploads....|Sem você, meu amo...|https://admin.jov...|\n",
      "|https://nerdcast....|https://nerdcast....|https://nerdcast....|https://nerdcast....|{\"term_id\":121213...|<p>Hoje vamos fal...|    7765|    827|29 de abril de 2022|2 horas e 9 minutos|          NerdCast|               nerdcast|Katiucha Barcelos...|517350|https://uploads.j...|     NULL|[{, 1075, 2531205...|{1100, 503, 00:08...|2022-04-29T11:50:...|         nerdcast|         nerdcast|nerdcast@jovemner...|         NerdCast|          true|2022-04-29T11:50:...|2022-04-29T11:50:...|ruptura-o-voce-qu...|              Séries|{https://uploads....|Ruptura: O você q...|https://admin.jov...|\n",
      "|https://nerdcast....|https://nerdcast....|https://nerdcast....|https://nerdcast....|{\"term_id\":121214...|<p>O que é modula...|    3167|     09|26 de abril de 2022|         52 minutos|          NerdCast|               nerdcast|Ernesto Goulart,R...|517302|https://uploads.j...|     NULL|                  []|            {0, 0, }|2022-06-03T10:47:...|       generacast|       generacast|nerdcast@jovemner...|       Generacast|          NULL|2022-04-26T16:11:...|2022-04-26T16:11:...|dna-e-o-milagre-d...|Ciências,Comporta...|{https://uploads....|DNA e o Milagre d...|https://admin.jov...|\n",
      "|https://nerdcast....|https://nerdcast....|https://nerdcast....|https://nerdcast....|{\"term_id\":121214...|<p>Teaser de Thor...|    1901|     40|25 de abril de 2022|         31 minutos|          NerdCast|               nerdcast|Gabriel Avila,Pri...|516888|https://uploads.j...|     NULL|                  []|            {0, 0, }|2022-04-22T18:34:...|     la-do-bunker|     la-do-bunker|                    |     Lá do Bunker|          NULL|2022-04-25T06:00:...|2022-04-25T06:00:...| meia-noite-te-conto|            Notícias|{https://uploads....| Meia-noite te conto|https://admin.jov...|\n",
      "|https://nerdcast....|https://nerdcast....|https://nerdcast....|https://nerdcast....|{\"term_id\":121214...|<p>Tempo de quali...|    5527|     51|23 de abril de 2022|1 hora e 32 minutos|          NerdCast|               nerdcast|Daniella Freixo d...|516922|https://uploads.j...|     NULL|                  []|            {0, 0, }|2022-04-23T11:53:...|caneca-de-mamicas|caneca-de-mamicas|canecademamicas@j...|Caneca de Mamicas|          true|2022-04-23T11:53:...|2022-04-23T11:53:...|sou-poliglota-mas...|Comportamento,Edu...|{https://uploads....|Sou poliglota mas...|https://admin.jov...|\n",
      "|https://nerdcast....|https://nerdcast....|https://nerdcast....|https://nerdcast....|{\"term_id\":121213...|<p>Sim, nerds! Va...|    6300|    826|22 de abril de 2022|1 hora e 45 minutos|          NerdCast|               nerdcast|Buck O Balde,Carl...|516529|https://uploads.j...|     NULL|[{, 645, 25298042...|{1095, 518, 00:08...|2022-04-22T13:08:...|         nerdcast|         nerdcast|nerdcast@jovemner...|         NerdCast|          true|2022-04-22T13:08:...|2022-04-22T13:08:...|explorando-o-univ...|        Games,Séries|{https://uploads....|Explorando o univ...|https://admin.jov...|\n",
      "|https://nerdcast....|https://nerdcast....|https://nerdcast....|https://nerdcast....|{\"term_id\":121213...|<p>Vamos falar so...|    4480|     50|22 de abril de 2022|1 hora e 14 minutos|          NerdCast|               nerdcast|André Souza,Portu...|516713|https://uploads.j...|     NULL|                  []|            {0, 0, }|2022-06-03T10:47:...|    speak-english|    speak-english|nerdcast@jovemner...|    Speak English|          true|2022-04-22T13:01:...|2022-04-22T13:01:...|diferencas-cultur...|Comportamento,Cot...|{https://uploads....|Diferenças cultur...|https://admin.jov...|\n",
      "|https://nerdcast....|https://nerdcast....|https://nerdcast....|https://nerdcast....|{\"term_id\":121214...|<p>Hoje falaremos...|    2821|     09|19 de abril de 2022|         47 minutos|          NerdCast|               nerdcast|Leandro Leite Soa...|515969|https://uploads.j...|     NULL|                  []|            {0, 0, }|2022-04-19T12:57:...| papo-de-parceiro| papo-de-parceiro|                    | Papo de Parceiro|          NULL|2022-04-19T12:54:...|2022-04-19T12:54:...|da-internet-para-...|Empreendedorismo,...|{https://uploads....|Da internet para ...|https://admin.jov...|\n",
      "|https://nerdcast....|https://nerdcast....|https://nerdcast....|https://nerdcast....|{\"term_id\":121214...|<p>O poder do met...|    2159|     39|18 de abril de 2022|         35 minutos|          NerdCast|               nerdcast|        Camila Sousa|515801|https://uploads.j...|     NULL|                  []|            {0, 0, }|2022-04-18T09:24:...|     la-do-bunker|     la-do-bunker|                    |     Lá do Bunker|          NULL|2022-04-18T06:00:...|2022-04-18T06:00:...|a-empolgacao-da-j...|Cinema,Games,Inte...|{https://uploads....|A empolgação da j...|https://admin.jov...|\n",
      "|https://nerdcast....|https://nerdcast....|https://nerdcast....|https://nerdcast....|{\"term_id\":121214...|<p>Nossa caneca c...|    4828|     50|16 de abril de 2022|1 hora e 20 minutos|          NerdCast|               nerdcast|                    |515898|https://uploads.j...|     NULL|[{, 4697, 2528760...|            {0, 0, }|2022-04-16T11:14:...|caneca-de-mamicas|caneca-de-mamicas|canecademamicas@j...|Caneca de Mamicas|          true|2022-04-16T10:34:...|2022-04-16T10:34:...|caneca-50-mililitros|Comportamento,Cot...|{https://uploads....|Caneca 50 mililitros|https://admin.jov...|\n",
      "|https://nerdcast....|https://nerdcast....|https://nerdcast....|https://nerdcast....|{\"term_id\":121213...|<p>Vamos relembra...|    7370|    825|15 de abril de 2022|2 horas e 2 minutos|          NerdCast|               nerdcast|Carlos Voltor,Edu...|515084|https://uploads.j...|     NULL|[{, 928, 25286802...|{1366, 795, 00:13...|2022-04-15T12:10:...|         nerdcast|         nerdcast|nerdcast@jovemner...|         NerdCast|          true|2022-04-15T12:10:...|2022-04-15T12:10:...|20-anos-de-jovem-...|Cotidiano,Interne...|{https://uploads....|20 anos de Jovem ...|https://admin.jov...|\n",
      "|https://nerdcast....|https://nerdcast....|https://nerdcast....|https://nerdcast....|{\"term_id\":121214...|<p>Mas o que é um...|    2062|     38|11 de abril de 2022|         34 minutos|          NerdCast|               nerdcast|Camila Sousa,Pri ...|514826|https://uploads.j...|     NULL|                  []|            {0, 0, }|2022-04-11T09:45:...|     la-do-bunker|     la-do-bunker|                    |     Lá do Bunker|          NULL|2022-04-11T06:00:...|2022-04-11T06:00:...|   pausa-pro-gatinho|Animação,Cinema,I...|{https://uploads....|   Pausa pro gatinho|https://admin.jov...|\n",
      "|https://nerdcast....|https://nerdcast....|https://nerdcast....|https://nerdcast....|{\"term_id\":121214...|<p>Rainha ditador...|    4858|     49| 9 de abril de 2022|1 hora e 20 minutos|          NerdCast|               nerdcast|Airton Carvalho,G...|514865|https://uploads.j...|     NULL|                  []|            {0, 0, }|2022-04-09T12:25:...|caneca-de-mamicas|caneca-de-mamicas|canecademamicas@j...|Caneca de Mamicas|          true|2022-04-09T12:23:...|2022-04-09T12:23:...| got-abelhas-got-mel|  Ciências,Cotidiano|{https://uploads....| GOT Abelhas GOT Mel|https://admin.jov...|\n",
      "|https://nerdcast....|https://nerdcast....|https://nerdcast....|https://nerdcast....|{\"term_id\":121213...|<p>Do ya really w...|    7275|    824| 8 de abril de 2022|2 horas e 1 minutos|          NerdCast|               nerdcast|Katiucha Barcelos...|513994|https://uploads.j...|     NULL|[{, 1400, 2526022...|{1486, 306, 00:05...|2022-04-08T14:04:...|         nerdcast|         nerdcast|nerdcast@jovemner...|         NerdCast|          true|2022-04-08T12:38:...|2022-04-08T12:38:...|peacemaker-experi...|              Séries|{https://uploads....|Peacemaker: Exper...|https://admin.jov...|\n",
      "|https://nerdcast....|https://nerdcast....|https://nerdcast....|https://nerdcast....|{\"term_id\":121213...|<p>Elon Musk é ag...|    2359|     46| 8 de abril de 2022|         39 minutos|          NerdCast|               nerdcast|Nicolas Borsoi,Pe...|514668|https://uploads.j...|     NULL|                  []|            {0, 0, }|2022-04-15T12:09:...|         nerdcash|         nerdcash|nerdcast@jovemner...|         NerdCash|          NULL|2022-04-08T12:10:...|2022-04-08T12:10:...|elon-musk-e-o-twi...|   Internet,Notícias|{https://uploads....|Elon Musk e o Twi...|https://admin.jov...|\n",
      "+--------------------+--------------------+--------------------+--------------------+--------------------+--------------------+--------+-------+-------------------+-------------------+------------------+-----------------------+--------------------+------+--------------------+---------+--------------------+--------------------+--------------------+-----------------+-----------------+--------------------+-----------------+--------------+--------------------+--------------------+--------------------+--------------------+--------------------+--------------------+--------------------+\n",
      "only showing top 20 rows\n",
      "\n"
     ]
    }
   ],
   "source": [
    "df = spark.read.json('/workspaces/teo-me-why-web-scrapping/data/jovemnerd/json')\n",
    "df.show()"
   ]
  },
  {
   "cell_type": "code",
   "execution_count": 4,
   "metadata": {},
   "outputs": [
    {
     "name": "stdout",
     "output_type": "stream",
     "text": [
      "root\n",
      " |-- audio_high: string (nullable = true)\n",
      " |-- audio_low: string (nullable = true)\n",
      " |-- audio_medium: string (nullable = true)\n",
      " |-- audio_zip: string (nullable = true)\n",
      " |-- category: string (nullable = true)\n",
      " |-- description: string (nullable = true)\n",
      " |-- duration: long (nullable = true)\n",
      " |-- episode: string (nullable = true)\n",
      " |-- friendly_post_date: string (nullable = true)\n",
      " |-- friendly_post_time: string (nullable = true)\n",
      " |-- friendly_post_type: string (nullable = true)\n",
      " |-- friendly_post_type_slug: string (nullable = true)\n",
      " |-- guests: string (nullable = true)\n",
      " |-- id: long (nullable = true)\n",
      " |-- image: string (nullable = true)\n",
      " |-- image_alt: string (nullable = true)\n",
      " |-- insertions: array (nullable = true)\n",
      " |    |-- element: struct (containsNull = true)\n",
      " |    |    |-- button-title: string (nullable = true)\n",
      " |    |    |-- end-time: long (nullable = true)\n",
      " |    |    |-- id: long (nullable = true)\n",
      " |    |    |-- image: string (nullable = true)\n",
      " |    |    |-- link: string (nullable = true)\n",
      " |    |    |-- sound: boolean (nullable = true)\n",
      " |    |    |-- start-time: long (nullable = true)\n",
      " |    |    |-- title: string (nullable = true)\n",
      " |-- jump-to-time: struct (nullable = true)\n",
      " |    |-- end-time: long (nullable = true)\n",
      " |    |-- start-time: long (nullable = true)\n",
      " |    |-- test: string (nullable = true)\n",
      " |-- modified_at: string (nullable = true)\n",
      " |-- post_type_class: string (nullable = true)\n",
      " |-- product: string (nullable = true)\n",
      " |-- product_email: string (nullable = true)\n",
      " |-- product_name: string (nullable = true)\n",
      " |-- product_status: boolean (nullable = true)\n",
      " |-- pub_date: string (nullable = true)\n",
      " |-- published_at: string (nullable = true)\n",
      " |-- slug: string (nullable = true)\n",
      " |-- subject: string (nullable = true)\n",
      " |-- thumbnails: struct (nullable = true)\n",
      " |    |-- 1536x1536: string (nullable = true)\n",
      " |    |-- 2048x2048: string (nullable = true)\n",
      " |    |-- img-16x9-1210x544: string (nullable = true)\n",
      " |    |-- img-16x9-760x428: string (nullable = true)\n",
      " |    |-- img-1x1-3000x3000: string (nullable = true)\n",
      " |    |-- img-4x3-355x266: string (nullable = true)\n",
      " |    |-- img-4x6-448x644: string (nullable = true)\n",
      " |-- title: string (nullable = true)\n",
      " |-- url: string (nullable = true)\n",
      "\n"
     ]
    },
    {
     "name": "stderr",
     "output_type": "stream",
     "text": [
      "24/03/27 13:34:08 WARN GarbageCollectionMetrics: To enable non-built-in garbage collector(s) List(G1 Concurrent GC), users should configure it(them) to spark.eventLog.gcMetrics.youngGenerationGarbageCollectors or spark.eventLog.gcMetrics.oldGenerationGarbageCollectors\n"
     ]
    }
   ],
   "source": [
    "df.printSchema()"
   ]
  }
 ],
 "metadata": {
  "kernelspec": {
   "display_name": "Python 3",
   "language": "python",
   "name": "python3"
  },
  "language_info": {
   "codemirror_mode": {
    "name": "ipython",
    "version": 3
   },
   "file_extension": ".py",
   "mimetype": "text/x-python",
   "name": "python",
   "nbconvert_exporter": "python",
   "pygments_lexer": "ipython3",
   "version": "3.10.13"
  }
 },
 "nbformat": 4,
 "nbformat_minor": 2
}
