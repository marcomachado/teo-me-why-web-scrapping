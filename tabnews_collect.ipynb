{
  "cells": [
    {
      "cell_type": "code",
      "execution_count": 5,
      "metadata": {
        "id": "VH09pKiE1X9F"
      },
      "outputs": [],
      "source": [
        "import requests\n",
        "import pandas as pd\n",
        "import datetime\n",
        "import json\n",
        "import os\n",
        "import time"
      ]
    },
    {
      "cell_type": "code",
      "execution_count": 6,
      "metadata": {
        "colab": {
          "base_uri": "https://localhost:8080/"
        },
        "id": "iILH3RSpIolX",
        "outputId": "dac03cc9-2658-4cb7-975c-36832b99b85b"
      },
      "outputs": [],
      "source": [
        "#os.system(f'rm -rf data')"
      ]
    },
    {
      "cell_type": "code",
      "execution_count": 7,
      "metadata": {
        "id": "FVOFmtng4FQv"
      },
      "outputs": [],
      "source": [
        "class Collector:\n",
        "\n",
        "  def __init__(self, url, instance_name):\n",
        "    self.url = url\n",
        "    self.instance_name = instance_name\n",
        "\n",
        "    self.path_json = f'data/{self.instance_name}/contents/json/'\n",
        "    self.path_parquet = f'data/{self.instance_name}/contents/parquet/'\n",
        "\n",
        "    self.create_folders()\n",
        "\n",
        "  def create_folders(self):\n",
        "\n",
        "    if os.path.exists(self.path_json) == False:\n",
        "      os.makedirs(self.path_json)\n",
        "\n",
        "    if os.path.exists(self.path_parquet) == False:\n",
        "      os.makedirs(self.path_parquet)\n",
        "\n",
        "  def get_response(self, **kwargs):\n",
        "    resp = requests.get(self.url, params=kwargs)\n",
        "    return resp\n",
        "\n",
        "  def save_json(self, data):\n",
        "    now = datetime.datetime.now().strftime(\"%Y%m%d_%H%M%S%f\")\n",
        "\n",
        "    with open(f'{self.path_json}{now}.json', 'w') as open_file:\n",
        "      json.dump(data, open_file, indent=4)\n",
        "      open_file.close()\n",
        "\n",
        "  def save_parquet(self, data):\n",
        "    now = datetime.datetime.now().strftime(\"%Y%m%d_%H%M%S%f\")\n",
        "\n",
        "    df = pd.DataFrame(data)\n",
        "    df.to_parquet(f'{self.path_parquet}{now}.parquet', index=False)\n",
        "\n",
        "  def save_data(self, data, option='json'):\n",
        "    if option == 'json':\n",
        "      self.save_json(data)\n",
        "    elif option =='parquet':\n",
        "      self.save_parquet(data)\n",
        "\n",
        "\n",
        "  def get_and_save(self, save_format='json', **kwargs):\n",
        "    resp = self.get_response(**kwargs)\n",
        "    if resp.status_code == 200:\n",
        "      data = resp.json()\n",
        "      self.save_data(data, save_format)\n",
        "    else:\n",
        "      data = None\n",
        "      print(f'Request sem sucesso: {resp.status_code} {self.url}')\n",
        "\n",
        "    return data\n",
        "\n",
        "  def auto_exec(self, save_format='json', data_stop='2000-01-01'):\n",
        "    page = 1\n",
        "    while True:\n",
        "      print(page)\n",
        "      data = self.get_and_save(save_format=save_format,\n",
        "                        page=page,\n",
        "                        per_page=100,\n",
        "                        strategy='new')\n",
        "\n",
        "      if data == None:\n",
        "        print('Erro ao coletar dados')\n",
        "        time.sleep()\n",
        "      else:\n",
        "        date_last = pd.to_datetime(data[-1]['updated_at']).date()\n",
        "        if date_last < pd.to_datetime(data_stop).date() or len(data) < 100:\n",
        "          break\n",
        "\n",
        "      page += 1\n",
        "      time.sleep(2)\n"
      ]
    },
    {
      "cell_type": "code",
      "execution_count": 8,
      "metadata": {
        "colab": {
          "base_uri": "https://localhost:8080/"
        },
        "id": "PG-K8byS6WC1",
        "outputId": "4e9ab94c-12dc-4797-c074-569e111a5592"
      },
      "outputs": [
        {
          "name": "stdout",
          "output_type": "stream",
          "text": [
            "1\n"
          ]
        },
        {
          "name": "stdout",
          "output_type": "stream",
          "text": [
            "2\n",
            "3\n",
            "4\n",
            "5\n",
            "6\n",
            "7\n",
            "8\n",
            "9\n",
            "10\n",
            "11\n",
            "12\n",
            "13\n",
            "14\n"
          ]
        }
      ],
      "source": [
        "url = 'https://www.tabnews.com.br/api/v1/contents'\n",
        "collector = Collector(url, 'tabnews')\n",
        "collector.auto_exec(data_stop='2024-01-01')"
      ]
    }
  ],
  "metadata": {
    "colab": {
      "authorship_tag": "ABX9TyOEzwly/HLztGR0M29u3buM",
      "include_colab_link": true,
      "provenance": []
    },
    "kernelspec": {
      "display_name": "Python 3",
      "name": "python3"
    },
    "language_info": {
      "codemirror_mode": {
        "name": "ipython",
        "version": 3
      },
      "file_extension": ".py",
      "mimetype": "text/x-python",
      "name": "python",
      "nbconvert_exporter": "python",
      "pygments_lexer": "ipython3",
      "version": "3.10.13"
    }
  },
  "nbformat": 4,
  "nbformat_minor": 0
}
