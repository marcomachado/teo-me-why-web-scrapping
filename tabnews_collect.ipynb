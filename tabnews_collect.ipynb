{
  "nbformat": 4,
  "nbformat_minor": 0,
  "metadata": {
    "colab": {
      "provenance": [],
      "authorship_tag": "ABX9TyOEzwly/HLztGR0M29u3buM",
      "include_colab_link": true
    },
    "kernelspec": {
      "name": "python3",
      "display_name": "Python 3"
    },
    "language_info": {
      "name": "python"
    }
  },
  "cells": [
    {
      "cell_type": "markdown",
      "metadata": {
        "id": "view-in-github",
        "colab_type": "text"
      },
      "source": [
        "<a href=\"https://colab.research.google.com/github/marcomachado/teo-me-why-web-scrapping/blob/main/tabnews_collect.ipynb\" target=\"_parent\"><img src=\"https://colab.research.google.com/assets/colab-badge.svg\" alt=\"Open In Colab\"/></a>"
      ]
    },
    {
      "cell_type": "code",
      "execution_count": null,
      "metadata": {
        "id": "VH09pKiE1X9F"
      },
      "outputs": [],
      "source": [
        "import requests\n",
        "import pandas as pd\n",
        "import datetime\n",
        "import json\n",
        "import os\n",
        "import time"
      ]
    },
    {
      "cell_type": "code",
      "source": [
        "os.system(f'rm -rf data')"
      ],
      "metadata": {
        "colab": {
          "base_uri": "https://localhost:8080/"
        },
        "id": "iILH3RSpIolX",
        "outputId": "dac03cc9-2658-4cb7-975c-36832b99b85b"
      },
      "execution_count": 88,
      "outputs": [
        {
          "output_type": "execute_result",
          "data": {
            "text/plain": [
              "0"
            ]
          },
          "metadata": {},
          "execution_count": 88
        }
      ]
    },
    {
      "cell_type": "code",
      "source": [
        "class Collector:\n",
        "\n",
        "  def __init__(self, url, instance_name):\n",
        "    self.url = url\n",
        "    self.instance_name = instance_name\n",
        "\n",
        "    self.path_json = f'data/{self.instance_name}/contents/json/'\n",
        "    self.path_parquet = f'data/{self.instance_name}/contents/parquet/'\n",
        "\n",
        "    self.create_folders()\n",
        "\n",
        "  def create_folders(self):\n",
        "\n",
        "    if os.path.exists(self.path_json) == False:\n",
        "      os.makedirs(self.path_json)\n",
        "\n",
        "    if os.path.exists(self.path_parquet) == False:\n",
        "      os.makedirs(self.path_parquet)\n",
        "\n",
        "  def get_response(self, **kwargs):\n",
        "    resp = requests.get(self.url, params=kwargs)\n",
        "    return resp\n",
        "\n",
        "  def save_json(self, data):\n",
        "    now = datetime.datetime.now().strftime(\"%Y-%m-%d_%H:%M:%S.%f\")\n",
        "\n",
        "    with open(f'{self.path_json}{now}.json', 'w') as open_file:\n",
        "      json.dump(data, open_file, indent=4)\n",
        "      open_file.close()\n",
        "\n",
        "  def save_parquet(self, data):\n",
        "    now = datetime.datetime.now().strftime(\"%Y-%m-%d_%H:%M:%S.%f\")\n",
        "\n",
        "    df = pd.DataFrame(data)\n",
        "    df.to_parquet(f'{self.path_parquet}{now}.parquet', index=False)\n",
        "\n",
        "  def save_data(self, data, option='json'):\n",
        "    if option == 'json':\n",
        "      self.save_json(data)\n",
        "    elif option =='parquet':\n",
        "      self.save_parquet(data)\n",
        "\n",
        "\n",
        "  def get_and_save(self, save_format='json', **kwargs):\n",
        "    resp = self.get_response(**kwargs)\n",
        "    if resp.status_code == 200:\n",
        "      data = resp.json()\n",
        "      self.save_data(data, save_format)\n",
        "    else:\n",
        "      data = None\n",
        "      print(f'Request sem sucesso: {resp.status_code} {self.url}')\n",
        "\n",
        "    return data\n",
        "\n",
        "  def auto_exec(self, save_format='json', data_stop='2000-01-01'):\n",
        "    page = 1\n",
        "    while True:\n",
        "      print(page)\n",
        "      data = self.get_and_save(save_format=save_format,\n",
        "                        page=page,\n",
        "                        per_page=100,\n",
        "                        strategy='new')\n",
        "\n",
        "      if data == None:\n",
        "        print('Erro ao coletar dados')\n",
        "        time.sleep()\n",
        "      else:\n",
        "        date_last = pd.to_datetime(data[-1]['updated_at']).date()\n",
        "        if date_last < pd.to_datetime(data_stop).date() or len(data) < 100:\n",
        "          break\n",
        "\n",
        "      page += 1\n",
        "      time.sleep(2)\n"
      ],
      "metadata": {
        "id": "FVOFmtng4FQv"
      },
      "execution_count": 89,
      "outputs": []
    },
    {
      "cell_type": "code",
      "source": [
        "url = 'https://www.tabnews.com.br/api/v1/contents'\n",
        "collector = Collector(url, 'tabnews')\n",
        "collector.auto_exec(data_stop='2024-03-01')"
      ],
      "metadata": {
        "id": "PG-K8byS6WC1",
        "colab": {
          "base_uri": "https://localhost:8080/"
        },
        "outputId": "4e9ab94c-12dc-4797-c074-569e111a5592"
      },
      "execution_count": 90,
      "outputs": [
        {
          "output_type": "stream",
          "name": "stdout",
          "text": [
            "1\n",
            "2\n",
            "3\n",
            "4\n",
            "5\n"
          ]
        }
      ]
    },
    {
      "cell_type": "code",
      "source": [],
      "metadata": {
        "id": "IVdZJoNYYd1e"
      },
      "execution_count": null,
      "outputs": []
    }
  ]
}