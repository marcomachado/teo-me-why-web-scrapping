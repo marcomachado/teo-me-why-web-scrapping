{
  "cells": [
    {
      "cell_type": "code",
      "execution_count": 1,
      "metadata": {
        "colab": {
          "base_uri": "https://localhost:8080/"
        },
        "id": "BALQTw3lhsy0",
        "outputId": "fa6abfbe-fff6-4fae-ab49-37082c93aef1"
      },
      "outputs": [
        {
          "name": "stdout",
          "output_type": "stream",
          "text": [
            "Requirement already satisfied: beautifulsoup4 in /home/codespace/.local/lib/python3.10/site-packages (4.12.3)\n",
            "Requirement already satisfied: soupsieve>1.2 in /home/codespace/.local/lib/python3.10/site-packages (from beautifulsoup4) (2.5)\n",
            "Note: you may need to restart the kernel to use updated packages.\n",
            "Requirement already satisfied: tqdm in /usr/local/python/3.10.13/lib/python3.10/site-packages (4.66.2)\n",
            "Note: you may need to restart the kernel to use updated packages.\n",
            "Requirement already satisfied: fastparquet in /usr/local/python/3.10.13/lib/python3.10/site-packages (2024.2.0)\n",
            "Requirement already satisfied: pyarrow in /usr/local/python/3.10.13/lib/python3.10/site-packages (15.0.2)\n",
            "Requirement already satisfied: pandas>=1.5.0 in /home/codespace/.local/lib/python3.10/site-packages (from fastparquet) (2.2.1)\n",
            "Requirement already satisfied: numpy>=1.20.3 in /home/codespace/.local/lib/python3.10/site-packages (from fastparquet) (1.26.4)\n",
            "Requirement already satisfied: cramjam>=2.3 in /usr/local/python/3.10.13/lib/python3.10/site-packages (from fastparquet) (2.8.3)\n",
            "Requirement already satisfied: fsspec in /home/codespace/.local/lib/python3.10/site-packages (from fastparquet) (2024.2.0)\n",
            "Requirement already satisfied: packaging in /home/codespace/.local/lib/python3.10/site-packages (from fastparquet) (23.2)\n",
            "Requirement already satisfied: python-dateutil>=2.8.2 in /home/codespace/.local/lib/python3.10/site-packages (from pandas>=1.5.0->fastparquet) (2.9.0.post0)\n",
            "Requirement already satisfied: pytz>=2020.1 in /home/codespace/.local/lib/python3.10/site-packages (from pandas>=1.5.0->fastparquet) (2024.1)\n",
            "Requirement already satisfied: tzdata>=2022.7 in /home/codespace/.local/lib/python3.10/site-packages (from pandas>=1.5.0->fastparquet) (2024.1)\n",
            "Requirement already satisfied: six>=1.5 in /home/codespace/.local/lib/python3.10/site-packages (from python-dateutil>=2.8.2->pandas>=1.5.0->fastparquet) (1.16.0)\n",
            "Note: you may need to restart the kernel to use updated packages.\n"
          ]
        }
      ],
      "source": [
        "import requests\n",
        "\n",
        "%pip install beautifulsoup4\n",
        "from bs4 import BeautifulSoup\n",
        "\n",
        "%pip install tqdm\n",
        "from tqdm import tqdm\n",
        "\n",
        "import pandas as pd\n",
        "import os\n",
        "path_data = 'data/resident_evil'\n",
        "os.makedirs(path_data)\n",
        "\n",
        "%pip install fastparquet pyarrow"
      ]
    },
    {
      "cell_type": "code",
      "execution_count": 2,
      "metadata": {
        "id": "OUNAA6F2lIH0"
      },
      "outputs": [],
      "source": [
        "# google curl to python\n",
        "# https://curlconverter.com/\n",
        "\n",
        "def get_content(url):\n",
        "  headers = {\n",
        "      'authority': 'www.residentevildatabase.com',\n",
        "      'accept': 'text/html,application/xhtml+xml,application/xml;q=0.9,image/avif,image/webp,image/apng,*/*;q=0.8,application/signed-exchange;v=b3;q=0.7',\n",
        "      'accept-language': 'en-US,en;q=0.9',\n",
        "      'cache-control': 'max-age=0',\n",
        "      # 'cookie': '_gid=GA1.2.1217994358.1711368764; __gads=ID=c5c850d56fc1456d:T=1711368764:RT=1711370017:S=ALNI_MaRDUZPK7sq-7ZUrSLdJo9nipwLBg; __gpi=UID=00000dd575eed7dc:T=1711368764:RT=1711370017:S=ALNI_MaH9Do1WUwlV97HnV7lVMlmcSVhJQ; __eoi=ID=35dfcdb5a17ef10c:T=1711368764:RT=1711370017:S=AA-Afja9CtdDDzUW6f_AurIIKXS_; _ga=GA1.2.271214056.1711368763; clever-last-tracker-71584=3; clever-counter-71584=0-3; _ga_DJLCSW50SC=GS1.1.1711368762.1.1.1711370023.52.0.0; _ga_D6NF5QC4QT=GS1.1.1711368764.1.1.1711370023.52.0.0; FCNEC=%5B%5B%22AKsRol_e7EhI1k7oT0HB_eXYiJx1Zhqz0BwTXvTudtnkvbz9tnZ6-nCOwyvTmXPcy90qZHA0BZfElrS1Q_bVz4WHEmoyYE8r29kvCFXEiJ1h2CspotpxXDd2lgVbKx1ic2Lb31dn4yKLlnx9c4bvIZOfgZibwDyZgA%3D%3D%22%5D%5D',\n",
        "      'referer': 'https://www.residentevildatabase.com/personagens/',\n",
        "      'sec-ch-ua': '\"Chromium\";v=\"122\", \"Not(A:Brand\";v=\"24\", \"Google Chrome\";v=\"122\"',\n",
        "      'sec-ch-ua-mobile': '?0',\n",
        "      'sec-ch-ua-platform': '\"Linux\"',\n",
        "      'sec-fetch-dest': 'document',\n",
        "      'sec-fetch-mode': 'navigate',\n",
        "      'sec-fetch-site': 'same-origin',\n",
        "      'sec-fetch-user': '?1',\n",
        "      'upgrade-insecure-requests': '1',\n",
        "      'user-agent': 'Mozilla/5.0 (X11; Linux x86_64) AppleWebKit/537.36 (KHTML, like Gecko) Chrome/122.0.0.0 Safari/537.36',\n",
        "  }\n",
        "  response = requests.get(url, headers=headers)\n",
        "  return response"
      ]
    },
    {
      "cell_type": "code",
      "execution_count": 3,
      "metadata": {
        "id": "sXF8CQb1va3M"
      },
      "outputs": [],
      "source": [
        "def get_basic_infos(soup):\n",
        "  try:\n",
        "    div_page = soup.find(\"div\", class_='td-page-content')\n",
        "    paragrafo = div_page.find_all(\"p\")[1]\n",
        "    ems = paragrafo.find_all(\"em\")\n",
        "\n",
        "    data = {}\n",
        "    for i in ems:\n",
        "      chave, valor = i.text.split(':')\n",
        "      chave = chave.strip(' ')\n",
        "      data[chave] = valor.strip(' ')\n",
        "\n",
        "    return data\n",
        "  except:\n",
        "    print(f'Erro na página {soup.title.string} - OP get_basic_infos')\n",
        "    return {}"
      ]
    },
    {
      "cell_type": "code",
      "execution_count": 4,
      "metadata": {
        "id": "4Fk84imt_uoK"
      },
      "outputs": [],
      "source": [
        "# Buscando aparições do personagem\n",
        "# elemento na página próximo a lista: <h4>Aparições em títulos da série:</h4>\n",
        "# usar find_next para pegar a lista\n",
        "# localiza todos os li -> itens da lista\n",
        "def get_aparicoes(soup):\n",
        "  try:\n",
        "    lis = soup.find(\"div\", class_='td-page-content').\\\n",
        "      find('h4').\\\n",
        "      find_next().\\\n",
        "      find_all('li')\n",
        "\n",
        "    aparicoes = [i.text for i in lis]\n",
        "    return aparicoes\n",
        "  except:\n",
        "    print(f'Erro na página {soup.title.string} - OP get_aparicoes')\n",
        "    return []"
      ]
    },
    {
      "cell_type": "code",
      "execution_count": 5,
      "metadata": {
        "id": "lWV9TPd3mGX9"
      },
      "outputs": [],
      "source": [
        "def get_personagem_infos(url):\n",
        "  resp = get_content(url)\n",
        "  if resp.status_code != 200:\n",
        "    print(f'Erro na URL {url}')\n",
        "    print(f'Código de erro: {resp.status_code}')\n",
        "    return {}\n",
        "  else:\n",
        "    soup = BeautifulSoup(resp.text)\n",
        "    data = get_basic_infos(soup)\n",
        "    data['Aparicoes'] = get_aparicoes(soup)\n",
        "    return data"
      ]
    },
    {
      "cell_type": "code",
      "execution_count": 6,
      "metadata": {
        "id": "OS9nvaNyCmbQ"
      },
      "outputs": [],
      "source": [
        "def get_links_personagens():\n",
        "  url_personagens = 'https://www.residentevildatabase.com/personagens/'\n",
        "  resp = get_content(url_personagens)\n",
        "  soup = BeautifulSoup(resp.text)\n",
        "  links_ancoras = soup.find('div', class_='td-page-content').find_all('a')\n",
        "\n",
        "  links = [i['href'] for i in links_ancoras]\n",
        "  return links"
      ]
    },
    {
      "cell_type": "code",
      "execution_count": 7,
      "metadata": {
        "colab": {
          "base_uri": "https://localhost:8080/"
        },
        "id": "WDsZLJV0Ag0J",
        "outputId": "98ad2608-cb9d-471b-ded8-d05f96e39fc7"
      },
      "outputs": [
        {
          "name": "stderr",
          "output_type": "stream",
          "text": [
            " 10%|▉         | 16/164 [00:14<02:09,  1.14it/s]"
          ]
        },
        {
          "name": "stdout",
          "output_type": "stream",
          "text": [
            "Erro na página Ark Thompson | Resident Evil Database - OP get_basic_infos\n"
          ]
        },
        {
          "name": "stderr",
          "output_type": "stream",
          "text": [
            " 31%|███       | 51/164 [00:41<01:21,  1.38it/s]"
          ]
        },
        {
          "name": "stdout",
          "output_type": "stream",
          "text": [
            "Erro na URL https://www.residentevildatabase.com/doug-re5-desperate-escape/\n",
            "Código de erro: 404\n"
          ]
        },
        {
          "name": "stderr",
          "output_type": "stream",
          "text": [
            " 56%|█████▌    | 92/164 [01:14<00:56,  1.27it/s]"
          ]
        },
        {
          "name": "stdout",
          "output_type": "stream",
          "text": [
            "Erro na página John | Resident Evil Database - OP get_basic_infos\n"
          ]
        },
        {
          "name": "stderr",
          "output_type": "stream",
          "text": [
            " 71%|███████   | 116/164 [01:34<00:38,  1.25it/s]"
          ]
        },
        {
          "name": "stdout",
          "output_type": "stream",
          "text": [
            "Erro na página Michael Warren | Resident Evil Database - OP get_basic_infos\n"
          ]
        },
        {
          "name": "stderr",
          "output_type": "stream",
          "text": [
            "100%|██████████| 164/164 [02:13<00:00,  1.23it/s]\n"
          ]
        }
      ],
      "source": [
        "links = get_links_personagens()\n",
        "data = []\n",
        "for link in tqdm(links):\n",
        "  infos = get_personagem_infos(link)\n",
        "  infos['link'] = link\n",
        "  nome = link.split('/')[-2].replace('-', ' ')\n",
        "  infos['Nome'] = nome\n",
        "  data.append(infos)\n"
      ]
    },
    {
      "cell_type": "code",
      "execution_count": 8,
      "metadata": {
        "colab": {
          "base_uri": "https://localhost:8080/",
          "height": 556
        },
        "id": "5yCTK4HNFKzt",
        "outputId": "e14c894c-f47a-4425-dd47-c69c216cd20c"
      },
      "outputs": [
        {
          "data": {
            "text/html": [
              "<div>\n",
              "<style scoped>\n",
              "    .dataframe tbody tr th:only-of-type {\n",
              "        vertical-align: middle;\n",
              "    }\n",
              "\n",
              "    .dataframe tbody tr th {\n",
              "        vertical-align: top;\n",
              "    }\n",
              "\n",
              "    .dataframe thead th {\n",
              "        text-align: right;\n",
              "    }\n",
              "</style>\n",
              "<table border=\"1\" class=\"dataframe\">\n",
              "  <thead>\n",
              "    <tr style=\"text-align: right;\">\n",
              "      <th></th>\n",
              "      <th>Ano de nascimento</th>\n",
              "      <th>Tipo sanguíneo</th>\n",
              "      <th>Altura</th>\n",
              "      <th>Peso</th>\n",
              "      <th>Aparicoes</th>\n",
              "      <th>link</th>\n",
              "      <th>Nome</th>\n",
              "      <th>de nascimento</th>\n",
              "    </tr>\n",
              "  </thead>\n",
              "  <tbody>\n",
              "    <tr>\n",
              "      <th>0</th>\n",
              "      <td>1974 (24 anos em 1998)</td>\n",
              "      <td>AB</td>\n",
              "      <td>Desconhecida.</td>\n",
              "      <td>Desconhecido.</td>\n",
              "      <td>[Biohazard / Resident Evil 2 (1998), Biohazard...</td>\n",
              "      <td>https://www.residentevildatabase.com/ada-wong/</td>\n",
              "      <td>ada wong</td>\n",
              "      <td>NaN</td>\n",
              "    </tr>\n",
              "    <tr>\n",
              "      <th>1</th>\n",
              "      <td>Desconhecido.</td>\n",
              "      <td>Desconhecido.</td>\n",
              "      <td>Desconhecida.</td>\n",
              "      <td>Desconhecido.</td>\n",
              "      <td>[Biohazard / Resident Evil 6 (2012)]</td>\n",
              "      <td>https://www.residentevildatabase.com/adam-benf...</td>\n",
              "      <td>adam benford</td>\n",
              "      <td>NaN</td>\n",
              "    </tr>\n",
              "    <tr>\n",
              "      <th>2</th>\n",
              "      <td>Desconhecido.</td>\n",
              "      <td>Desconhecido.</td>\n",
              "      <td>Desconhecida.</td>\n",
              "      <td>Desconhecido.</td>\n",
              "      <td>[Biohazard / Resident Evil 7 (2017), Biohazard...</td>\n",
              "      <td>https://www.residentevildatabase.com/alan-doug...</td>\n",
              "      <td>alan douglas</td>\n",
              "      <td>NaN</td>\n",
              "    </tr>\n",
              "    <tr>\n",
              "      <th>3</th>\n",
              "      <td>1960</td>\n",
              "      <td>O</td>\n",
              "      <td>1,83cm (em jogos antigos); 1,90cm (em RE5)</td>\n",
              "      <td>84,5kg (em jogos antigos); 90kg (em RE5)</td>\n",
              "      <td>[Biohazard / Resident Evil Clássico (1996), Bi...</td>\n",
              "      <td>https://www.residentevildatabase.com/albert-we...</td>\n",
              "      <td>albert wesker</td>\n",
              "      <td>NaN</td>\n",
              "    </tr>\n",
              "    <tr>\n",
              "      <th>4</th>\n",
              "      <td>Desconhecido.</td>\n",
              "      <td>Desconhecido.</td>\n",
              "      <td>2,90m (aprox.)</td>\n",
              "      <td>Desconhecido.</td>\n",
              "      <td>[Biohazard / Resident Evil Village (2021)]</td>\n",
              "      <td>https://www.residentevildatabase.com/alcina-di...</td>\n",
              "      <td>alcina dimitrescu</td>\n",
              "      <td>NaN</td>\n",
              "    </tr>\n",
              "  </tbody>\n",
              "</table>\n",
              "</div>"
            ],
            "text/plain": [
              "        Ano de nascimento Tipo sanguíneo  \\\n",
              "0  1974 (24 anos em 1998)             AB   \n",
              "1           Desconhecido.  Desconhecido.   \n",
              "2           Desconhecido.  Desconhecido.   \n",
              "3                    1960              O   \n",
              "4           Desconhecido.  Desconhecido.   \n",
              "\n",
              "                                       Altura  \\\n",
              "0                               Desconhecida.   \n",
              "1                               Desconhecida.   \n",
              "2                               Desconhecida.   \n",
              "3  1,83cm (em jogos antigos); 1,90cm (em RE5)   \n",
              "4                              2,90m (aprox.)   \n",
              "\n",
              "                                       Peso  \\\n",
              "0                             Desconhecido.   \n",
              "1                             Desconhecido.   \n",
              "2                             Desconhecido.   \n",
              "3  84,5kg (em jogos antigos); 90kg (em RE5)   \n",
              "4                             Desconhecido.   \n",
              "\n",
              "                                           Aparicoes  \\\n",
              "0  [Biohazard / Resident Evil 2 (1998), Biohazard...   \n",
              "1               [Biohazard / Resident Evil 6 (2012)]   \n",
              "2  [Biohazard / Resident Evil 7 (2017), Biohazard...   \n",
              "3  [Biohazard / Resident Evil Clássico (1996), Bi...   \n",
              "4         [Biohazard / Resident Evil Village (2021)]   \n",
              "\n",
              "                                                link               Nome  \\\n",
              "0     https://www.residentevildatabase.com/ada-wong/           ada wong   \n",
              "1  https://www.residentevildatabase.com/adam-benf...       adam benford   \n",
              "2  https://www.residentevildatabase.com/alan-doug...       alan douglas   \n",
              "3  https://www.residentevildatabase.com/albert-we...      albert wesker   \n",
              "4  https://www.residentevildatabase.com/alcina-di...  alcina dimitrescu   \n",
              "\n",
              "  de nascimento  \n",
              "0           NaN  \n",
              "1           NaN  \n",
              "2           NaN  \n",
              "3           NaN  \n",
              "4           NaN  "
            ]
          },
          "execution_count": 8,
          "metadata": {},
          "output_type": "execute_result"
        }
      ],
      "source": [
        "df = pd.DataFrame(data)\n",
        "df.head()"
      ]
    },
    {
      "cell_type": "code",
      "execution_count": 9,
      "metadata": {
        "colab": {
          "base_uri": "https://localhost:8080/",
          "height": 222
        },
        "id": "1mnPHHhvRvQF",
        "outputId": "5e49c277-08bb-47a7-e263-13da4bade1c6"
      },
      "outputs": [
        {
          "data": {
            "text/html": [
              "<div>\n",
              "<style scoped>\n",
              "    .dataframe tbody tr th:only-of-type {\n",
              "        vertical-align: middle;\n",
              "    }\n",
              "\n",
              "    .dataframe tbody tr th {\n",
              "        vertical-align: top;\n",
              "    }\n",
              "\n",
              "    .dataframe thead th {\n",
              "        text-align: right;\n",
              "    }\n",
              "</style>\n",
              "<table border=\"1\" class=\"dataframe\">\n",
              "  <thead>\n",
              "    <tr style=\"text-align: right;\">\n",
              "      <th></th>\n",
              "      <th>Ano de nascimento</th>\n",
              "      <th>Tipo sanguíneo</th>\n",
              "      <th>Altura</th>\n",
              "      <th>Peso</th>\n",
              "      <th>Aparicoes</th>\n",
              "      <th>link</th>\n",
              "      <th>Nome</th>\n",
              "      <th>de nascimento</th>\n",
              "    </tr>\n",
              "  </thead>\n",
              "  <tbody>\n",
              "    <tr>\n",
              "      <th>101</th>\n",
              "      <td>NaN</td>\n",
              "      <td>A</td>\n",
              "      <td>1,78cm (em jogos antigos); 1,80cm (em RE4)</td>\n",
              "      <td>70,2kg (em jogos antigos); desconhecido (em RE4)</td>\n",
              "      <td>[Biohazard / Resident Evil 2 (1998), Biohazard...</td>\n",
              "      <td>https://www.residentevildatabase.com/leon-s-ke...</td>\n",
              "      <td>leon s kennedy</td>\n",
              "      <td>1977 (não confirmado)</td>\n",
              "    </tr>\n",
              "  </tbody>\n",
              "</table>\n",
              "</div>"
            ],
            "text/plain": [
              "    Ano de nascimento Tipo sanguíneo  \\\n",
              "101               NaN              A   \n",
              "\n",
              "                                         Altura  \\\n",
              "101  1,78cm (em jogos antigos); 1,80cm (em RE4)   \n",
              "\n",
              "                                                 Peso  \\\n",
              "101  70,2kg (em jogos antigos); desconhecido (em RE4)   \n",
              "\n",
              "                                             Aparicoes  \\\n",
              "101  [Biohazard / Resident Evil 2 (1998), Biohazard...   \n",
              "\n",
              "                                                  link            Nome  \\\n",
              "101  https://www.residentevildatabase.com/leon-s-ke...  leon s kennedy   \n",
              "\n",
              "             de nascimento  \n",
              "101  1977 (não confirmado)  "
            ]
          },
          "execution_count": 9,
          "metadata": {},
          "output_type": "execute_result"
        }
      ],
      "source": [
        "# um dos dados possui uma informação errada que esta quebrando no processamento\n",
        "# neste caso, o personagem \"Leon S. Kennedy\" possui um problema na estrutura do HTML\n",
        "# na informação do \"Ano de nascimento\", somente foi aplicado o <em> na parte \"de nascimento\"\n",
        "df[~df['de nascimento'].isna()]"
      ]
    },
    {
      "cell_type": "code",
      "execution_count": 10,
      "metadata": {
        "id": "H3KhsVT3RyQX"
      },
      "outputs": [],
      "source": [
        "# exportar dados para arquivo\n",
        "# 1ª opcao> CSV\n",
        "# problema: lista dentro do CSV\n",
        "df.to_csv(f'{path_data}/dados_re.csv', index=False, sep=';')"
      ]
    },
    {
      "cell_type": "code",
      "execution_count": 11,
      "metadata": {
        "id": "QdixZ4-RSbjE"
      },
      "outputs": [],
      "source": [
        "# 2ª op> melhor usar PARQUET\n",
        "# se não funcionar, instalar fastparquet e pyarrow\n",
        "# parquet> tipo binario que comporta diferentes tipos de dados (metadados, tipos de colunas)\n",
        "df.to_parquet(f'{path_data}/dados_re.parquet', index=False)"
      ]
    },
    {
      "cell_type": "code",
      "execution_count": 14,
      "metadata": {
        "id": "VYFH1fEiTDgj"
      },
      "outputs": [],
      "source": [
        "# 3ª opcao> pickel\n",
        "# tb é binário\n",
        "# serialização de objetos\n",
        "# salvar objeto do jeito que está e depois restaurar\n",
        "# modelos de ML usam muito -> treinamento do algoritmo -> salvar em pkl -> usar em outro lugar (etapa de teste)\n",
        "df.to_pickle(f'{path_data}/dados_re.pkl')"
      ]
    }
  ],
  "metadata": {
    "colab": {
      "authorship_tag": "ABX9TyN8ai1uOtGCMC8jRQ+/nhbl",
      "include_colab_link": true,
      "provenance": []
    },
    "kernelspec": {
      "display_name": "Python 3",
      "name": "python3"
    },
    "language_info": {
      "codemirror_mode": {
        "name": "ipython",
        "version": 3
      },
      "file_extension": ".py",
      "mimetype": "text/x-python",
      "name": "python",
      "nbconvert_exporter": "python",
      "pygments_lexer": "ipython3",
      "version": "3.10.13"
    }
  },
  "nbformat": 4,
  "nbformat_minor": 0
}
